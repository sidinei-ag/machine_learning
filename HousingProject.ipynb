{
 "cells": [
  {
   "cell_type": "markdown",
   "metadata": {},
   "source": [
    "# IMPORT"
   ]
  },
  {
   "cell_type": "code",
   "execution_count": 1,
   "metadata": {},
   "outputs": [],
   "source": [
    "import pandas as pd\n",
    "import matplotlib.pyplot as plt\n",
    "import seaborn as sns"
   ]
  },
  {
   "cell_type": "markdown",
   "metadata": {},
   "source": [
    "# LOADING DATASET"
   ]
  },
  {
   "cell_type": "code",
   "execution_count": 2,
   "metadata": {},
   "outputs": [],
   "source": [
    "df = pd.read_csv('Datasets/housing.csv')"
   ]
  },
  {
   "cell_type": "markdown",
   "metadata": {},
   "source": [
    "# ANÁLISE EXPLORATÓRIA"
   ]
  },
  {
   "cell_type": "markdown",
   "metadata": {},
   "source": [
    "#### Amostra dos dados"
   ]
  },
  {
   "cell_type": "code",
   "execution_count": 3,
   "metadata": {},
   "outputs": [
    {
     "data": {
      "text/html": [
       "<div>\n",
       "<style scoped>\n",
       "    .dataframe tbody tr th:only-of-type {\n",
       "        vertical-align: middle;\n",
       "    }\n",
       "\n",
       "    .dataframe tbody tr th {\n",
       "        vertical-align: top;\n",
       "    }\n",
       "\n",
       "    .dataframe thead th {\n",
       "        text-align: right;\n",
       "    }\n",
       "</style>\n",
       "<table border=\"1\" class=\"dataframe\">\n",
       "  <thead>\n",
       "    <tr style=\"text-align: right;\">\n",
       "      <th></th>\n",
       "      <th>longitude</th>\n",
       "      <th>latitude</th>\n",
       "      <th>housing_median_age</th>\n",
       "      <th>total_rooms</th>\n",
       "      <th>total_bedrooms</th>\n",
       "      <th>population</th>\n",
       "      <th>households</th>\n",
       "      <th>median_income</th>\n",
       "      <th>median_house_value</th>\n",
       "      <th>ocean_proximity</th>\n",
       "    </tr>\n",
       "  </thead>\n",
       "  <tbody>\n",
       "    <tr>\n",
       "      <th>19163</th>\n",
       "      <td>-122.67</td>\n",
       "      <td>38.33</td>\n",
       "      <td>4.0</td>\n",
       "      <td>8072.0</td>\n",
       "      <td>1606.0</td>\n",
       "      <td>4323.0</td>\n",
       "      <td>1475.0</td>\n",
       "      <td>3.9518</td>\n",
       "      <td>220300.0</td>\n",
       "      <td>&lt;1H OCEAN</td>\n",
       "    </tr>\n",
       "    <tr>\n",
       "      <th>14327</th>\n",
       "      <td>-117.16</td>\n",
       "      <td>32.71</td>\n",
       "      <td>5.0</td>\n",
       "      <td>2508.0</td>\n",
       "      <td>827.0</td>\n",
       "      <td>2066.0</td>\n",
       "      <td>761.0</td>\n",
       "      <td>1.3092</td>\n",
       "      <td>325000.0</td>\n",
       "      <td>NEAR OCEAN</td>\n",
       "    </tr>\n",
       "    <tr>\n",
       "      <th>4534</th>\n",
       "      <td>-118.21</td>\n",
       "      <td>34.03</td>\n",
       "      <td>45.0</td>\n",
       "      <td>1860.0</td>\n",
       "      <td>472.0</td>\n",
       "      <td>1893.0</td>\n",
       "      <td>456.0</td>\n",
       "      <td>2.6573</td>\n",
       "      <td>141800.0</td>\n",
       "      <td>&lt;1H OCEAN</td>\n",
       "    </tr>\n",
       "    <tr>\n",
       "      <th>11732</th>\n",
       "      <td>-120.69</td>\n",
       "      <td>39.12</td>\n",
       "      <td>19.0</td>\n",
       "      <td>1048.0</td>\n",
       "      <td>262.0</td>\n",
       "      <td>493.0</td>\n",
       "      <td>184.0</td>\n",
       "      <td>2.2917</td>\n",
       "      <td>118200.0</td>\n",
       "      <td>INLAND</td>\n",
       "    </tr>\n",
       "    <tr>\n",
       "      <th>8742</th>\n",
       "      <td>-118.32</td>\n",
       "      <td>33.82</td>\n",
       "      <td>22.0</td>\n",
       "      <td>2508.0</td>\n",
       "      <td>402.0</td>\n",
       "      <td>1254.0</td>\n",
       "      <td>395.0</td>\n",
       "      <td>7.0935</td>\n",
       "      <td>379500.0</td>\n",
       "      <td>&lt;1H OCEAN</td>\n",
       "    </tr>\n",
       "    <tr>\n",
       "      <th>5977</th>\n",
       "      <td>-117.78</td>\n",
       "      <td>34.11</td>\n",
       "      <td>23.0</td>\n",
       "      <td>7079.0</td>\n",
       "      <td>1381.0</td>\n",
       "      <td>3205.0</td>\n",
       "      <td>1327.0</td>\n",
       "      <td>3.0735</td>\n",
       "      <td>212300.0</td>\n",
       "      <td>INLAND</td>\n",
       "    </tr>\n",
       "    <tr>\n",
       "      <th>7304</th>\n",
       "      <td>-118.19</td>\n",
       "      <td>33.99</td>\n",
       "      <td>42.0</td>\n",
       "      <td>1429.0</td>\n",
       "      <td>436.0</td>\n",
       "      <td>1537.0</td>\n",
       "      <td>389.0</td>\n",
       "      <td>3.0114</td>\n",
       "      <td>157500.0</td>\n",
       "      <td>&lt;1H OCEAN</td>\n",
       "    </tr>\n",
       "    <tr>\n",
       "      <th>19177</th>\n",
       "      <td>-122.67</td>\n",
       "      <td>38.43</td>\n",
       "      <td>17.0</td>\n",
       "      <td>2007.0</td>\n",
       "      <td>400.0</td>\n",
       "      <td>895.0</td>\n",
       "      <td>403.0</td>\n",
       "      <td>3.2813</td>\n",
       "      <td>202700.0</td>\n",
       "      <td>&lt;1H OCEAN</td>\n",
       "    </tr>\n",
       "    <tr>\n",
       "      <th>19991</th>\n",
       "      <td>-119.35</td>\n",
       "      <td>36.20</td>\n",
       "      <td>31.0</td>\n",
       "      <td>1783.0</td>\n",
       "      <td>382.0</td>\n",
       "      <td>1266.0</td>\n",
       "      <td>358.0</td>\n",
       "      <td>2.2264</td>\n",
       "      <td>50800.0</td>\n",
       "      <td>INLAND</td>\n",
       "    </tr>\n",
       "    <tr>\n",
       "      <th>8650</th>\n",
       "      <td>-118.39</td>\n",
       "      <td>33.86</td>\n",
       "      <td>28.0</td>\n",
       "      <td>3619.0</td>\n",
       "      <td>764.0</td>\n",
       "      <td>1735.0</td>\n",
       "      <td>789.0</td>\n",
       "      <td>6.1404</td>\n",
       "      <td>368400.0</td>\n",
       "      <td>&lt;1H OCEAN</td>\n",
       "    </tr>\n",
       "  </tbody>\n",
       "</table>\n",
       "</div>"
      ],
      "text/plain": [
       "       longitude  latitude  housing_median_age  total_rooms  total_bedrooms  \\\n",
       "19163    -122.67     38.33                 4.0       8072.0          1606.0   \n",
       "14327    -117.16     32.71                 5.0       2508.0           827.0   \n",
       "4534     -118.21     34.03                45.0       1860.0           472.0   \n",
       "11732    -120.69     39.12                19.0       1048.0           262.0   \n",
       "8742     -118.32     33.82                22.0       2508.0           402.0   \n",
       "5977     -117.78     34.11                23.0       7079.0          1381.0   \n",
       "7304     -118.19     33.99                42.0       1429.0           436.0   \n",
       "19177    -122.67     38.43                17.0       2007.0           400.0   \n",
       "19991    -119.35     36.20                31.0       1783.0           382.0   \n",
       "8650     -118.39     33.86                28.0       3619.0           764.0   \n",
       "\n",
       "       population  households  median_income  median_house_value  \\\n",
       "19163      4323.0      1475.0         3.9518            220300.0   \n",
       "14327      2066.0       761.0         1.3092            325000.0   \n",
       "4534       1893.0       456.0         2.6573            141800.0   \n",
       "11732       493.0       184.0         2.2917            118200.0   \n",
       "8742       1254.0       395.0         7.0935            379500.0   \n",
       "5977       3205.0      1327.0         3.0735            212300.0   \n",
       "7304       1537.0       389.0         3.0114            157500.0   \n",
       "19177       895.0       403.0         3.2813            202700.0   \n",
       "19991      1266.0       358.0         2.2264             50800.0   \n",
       "8650       1735.0       789.0         6.1404            368400.0   \n",
       "\n",
       "      ocean_proximity  \n",
       "19163       <1H OCEAN  \n",
       "14327      NEAR OCEAN  \n",
       "4534        <1H OCEAN  \n",
       "11732          INLAND  \n",
       "8742        <1H OCEAN  \n",
       "5977           INLAND  \n",
       "7304        <1H OCEAN  \n",
       "19177       <1H OCEAN  \n",
       "19991          INLAND  \n",
       "8650        <1H OCEAN  "
      ]
     },
     "execution_count": 3,
     "metadata": {},
     "output_type": "execute_result"
    }
   ],
   "source": [
    "df.sample(10)"
   ]
  },
  {
   "cell_type": "markdown",
   "metadata": {},
   "source": [
    "#### Tipos de dados"
   ]
  },
  {
   "cell_type": "code",
   "execution_count": 6,
   "metadata": {},
   "outputs": [
    {
     "name": "stdout",
     "output_type": "stream",
     "text": [
      "longitude             float64\n",
      "latitude              float64\n",
      "housing_median_age    float64\n",
      "total_rooms           float64\n",
      "total_bedrooms        float64\n",
      "population            float64\n",
      "households            float64\n",
      "median_income         float64\n",
      "median_house_value    float64\n",
      "ocean_proximity        object\n",
      "dtype: object\n"
     ]
    }
   ],
   "source": [
    "print(df.dtypes)"
   ]
  },
  {
   "cell_type": "markdown",
   "metadata": {},
   "source": [
    "#### Verificando a existência de valores Nulos"
   ]
  },
  {
   "cell_type": "code",
   "execution_count": 7,
   "metadata": {},
   "outputs": [
    {
     "data": {
      "text/plain": [
       "longitude               0\n",
       "latitude                0\n",
       "housing_median_age      0\n",
       "total_rooms             0\n",
       "total_bedrooms        207\n",
       "population              0\n",
       "households              0\n",
       "median_income           0\n",
       "median_house_value      0\n",
       "ocean_proximity         0\n",
       "dtype: int64"
      ]
     },
     "execution_count": 7,
     "metadata": {},
     "output_type": "execute_result"
    }
   ],
   "source": [
    "df.isnull().sum()"
   ]
  },
  {
   "cell_type": "markdown",
   "metadata": {},
   "source": [
    "#### Preenchendo valores nulos"
   ]
  },
  {
   "cell_type": "markdown",
   "metadata": {},
   "source": []
  }
 ],
 "metadata": {
  "kernelspec": {
   "display_name": "base",
   "language": "python",
   "name": "python3"
  },
  "language_info": {
   "codemirror_mode": {
    "name": "ipython",
    "version": 3
   },
   "file_extension": ".py",
   "mimetype": "text/x-python",
   "name": "python",
   "nbconvert_exporter": "python",
   "pygments_lexer": "ipython3",
   "version": "3.9.13"
  }
 },
 "nbformat": 4,
 "nbformat_minor": 2
}
